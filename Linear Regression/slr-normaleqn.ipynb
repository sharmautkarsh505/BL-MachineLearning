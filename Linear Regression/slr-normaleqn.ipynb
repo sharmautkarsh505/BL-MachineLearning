{
 "cells": [
  {
   "cell_type": "code",
   "execution_count": 1,
   "id": "9b33fc23",
   "metadata": {},
   "outputs": [],
   "source": [
    "import numpy as np \n",
    "import pandas as pd\n",
    "import seaborn as sns\n",
    "import matplotlib.pyplot as plt\n",
    "import warnings\n",
    "warnings.filterwarnings('ignore')\n",
    "\n",
    "training=pd.read_csv('train.csv')\n",
    "testing=pd.read_csv('test.csv')"
   ]
  },
  {
   "cell_type": "markdown",
   "id": "082812d7",
   "metadata": {},
   "source": [
    "Explo"
   ]
  },
  {
   "cell_type": "code",
   "execution_count": 2,
   "id": "46f5bf14",
   "metadata": {},
   "outputs": [
    {
     "data": {
      "text/html": [
       "<div>\n",
       "<style scoped>\n",
       "    .dataframe tbody tr th:only-of-type {\n",
       "        vertical-align: middle;\n",
       "    }\n",
       "\n",
       "    .dataframe tbody tr th {\n",
       "        vertical-align: top;\n",
       "    }\n",
       "\n",
       "    .dataframe thead th {\n",
       "        text-align: right;\n",
       "    }\n",
       "</style>\n",
       "<table border=\"1\" class=\"dataframe\">\n",
       "  <thead>\n",
       "    <tr style=\"text-align: right;\">\n",
       "      <th></th>\n",
       "      <th>x</th>\n",
       "      <th>y</th>\n",
       "    </tr>\n",
       "  </thead>\n",
       "  <tbody>\n",
       "    <tr>\n",
       "      <th>0</th>\n",
       "      <td>24.0</td>\n",
       "      <td>21.549452</td>\n",
       "    </tr>\n",
       "    <tr>\n",
       "      <th>1</th>\n",
       "      <td>50.0</td>\n",
       "      <td>47.464463</td>\n",
       "    </tr>\n",
       "    <tr>\n",
       "      <th>2</th>\n",
       "      <td>15.0</td>\n",
       "      <td>17.218656</td>\n",
       "    </tr>\n",
       "    <tr>\n",
       "      <th>3</th>\n",
       "      <td>38.0</td>\n",
       "      <td>36.586398</td>\n",
       "    </tr>\n",
       "    <tr>\n",
       "      <th>4</th>\n",
       "      <td>87.0</td>\n",
       "      <td>87.288984</td>\n",
       "    </tr>\n",
       "  </tbody>\n",
       "</table>\n",
       "</div>"
      ],
      "text/plain": [
       "      x          y\n",
       "0  24.0  21.549452\n",
       "1  50.0  47.464463\n",
       "2  15.0  17.218656\n",
       "3  38.0  36.586398\n",
       "4  87.0  87.288984"
      ]
     },
     "execution_count": 2,
     "metadata": {},
     "output_type": "execute_result"
    }
   ],
   "source": [
    "#first 5 observations of dset\n",
    "training.head()"
   ]
  },
  {
   "cell_type": "code",
   "execution_count": 3,
   "id": "1fba13c6",
   "metadata": {},
   "outputs": [
    {
     "name": "stdout",
     "output_type": "stream",
     "text": [
      "<class 'pandas.core.frame.DataFrame'>\n",
      "RangeIndex: 700 entries, 0 to 699\n",
      "Data columns (total 2 columns):\n",
      " #   Column  Non-Null Count  Dtype  \n",
      "---  ------  --------------  -----  \n",
      " 0   x       700 non-null    float64\n",
      " 1   y       699 non-null    float64\n",
      "dtypes: float64(2)\n",
      "memory usage: 11.1 KB\n",
      "x    700\n",
      "y    699\n",
      "dtype: int64\n"
     ]
    }
   ],
   "source": [
    "#info about dset\n",
    "training.info()\n",
    "print(training.count())"
   ]
  },
  {
   "cell_type": "code",
   "execution_count": 4,
   "id": "e9139ff0",
   "metadata": {},
   "outputs": [],
   "source": [
    "#one row has a NA y value, so drop the row\n",
    "training.dropna(axis=0,inplace=True)"
   ]
  },
  {
   "cell_type": "code",
   "execution_count": 5,
   "id": "f90ec069",
   "metadata": {},
   "outputs": [
    {
     "name": "stdout",
     "output_type": "stream",
     "text": [
      "<class 'pandas.core.frame.DataFrame'>\n",
      "RangeIndex: 300 entries, 0 to 299\n",
      "Data columns (total 2 columns):\n",
      " #   Column  Non-Null Count  Dtype  \n",
      "---  ------  --------------  -----  \n",
      " 0   x       300 non-null    int64  \n",
      " 1   y       300 non-null    float64\n",
      "dtypes: float64(1), int64(1)\n",
      "memory usage: 4.8 KB\n"
     ]
    }
   ],
   "source": [
    "testing.info()\n",
    "#has 300 observations,no NA or np.NaN vals"
   ]
  },
  {
   "cell_type": "code",
   "execution_count": 6,
   "id": "7989d62f",
   "metadata": {},
   "outputs": [],
   "source": [
    "X=training.iloc[:,:-1]\n",
    "y=training.iloc[:,-1]"
   ]
  },
  {
   "cell_type": "code",
   "execution_count": 7,
   "id": "a7114c0b",
   "metadata": {},
   "outputs": [
    {
     "data": {
      "text/plain": [
       "<matplotlib.collections.PathCollection at 0x2437231ec10>"
      ]
     },
     "execution_count": 7,
     "metadata": {},
     "output_type": "execute_result"
    },
    {
     "data": {
      "image/png": "[encoded data removed]",
      "text/plain": [
       "<Figure size 720x576 with 1 Axes>"
      ]
     },
     "metadata": {
      "needs_background": "light"
     },
     "output_type": "display_data"
    }
   ],
   "source": [
    "fig=plt.figure(figsize=(10,8))\n",
    "ax=fig.add_axes([0,0,1,1])\n",
    "\n",
    "ax.scatter(X,y,s=5,color='grey')"
   ]
  },
  {
   "cell_type": "code",
   "execution_count": 8,
   "id": "59117951",
   "metadata": {},
   "outputs": [
    {
     "name": "stdout",
     "output_type": "stream",
     "text": [
      "[ 1.00065638 -0.10726546]\n"
     ]
    }
   ],
   "source": [
    "one_data=np.ones((699,))\n",
    "X['ones']=one_data\n",
    "X_t=X.transpose()\n",
    "product=X_t.dot(X)\n",
    "product.to_numpy()\n",
    "\n",
    "inverse_product=np.linalg.inv(product)\n",
    "\n",
    "product2=X_t.dot(y)\n",
    "\n",
    "final_product=inverse_product.dot(product2)\n",
    "print(final_product)"
   ]
  },
  {
   "cell_type": "code",
   "execution_count": null,
   "id": "82ae3467",
   "metadata": {},
   "outputs": [],
   "source": [
    "y_pred=(1.00065638)*X+(-0.10726546)\n",
    "\n",
    "fig=plt.figure(figsize=(10,8))\n",
    "ax=fig.add_axes([0,0,1,1])\n",
    "\n",
    "ax.scatter(X,y,s=5,color='grey')\n",
    "ax.plot(X,y_pred,color='steelblue')"
   ]
  },
  {
   "cell_type": "code",
   "execution_count": 9,
   "id": "dff1f193",
   "metadata": {},
   "outputs": [],
   "source": [
    "X_testing=testing.iloc[:,:-1]\n",
    "y_testing=testing.iloc[:,1]"
   ]
  },
  {
   "cell_type": "code",
   "execution_count": 10,
   "id": "fe18171e",
   "metadata": {},
   "outputs": [
    {
     "name": "stdout",
     "output_type": "stream",
     "text": [
      "0.9888014443105996\n"
     ]
    }
   ],
   "source": [
    "y_pred_testing=(1.00065638)*X_testing+(-0.10726546)\n",
    "y_testing_mean=y_testing.mean()\n",
    "\n",
    "tss=sum((y_testing-y_testing_mean)**2)\n",
    "y_pred_testing=y_pred_testing.to_numpy().reshape((300,))\n",
    "rss=sum((y_pred_testing-y_testing)**2)\n",
    "\n",
    "r2score=1-(rss/tss)\n",
    "print(r2score)"
   ]
  },
  {
   "cell_type": "code",
   "execution_count": 11,
   "id": "fa4dddbc",
   "metadata": {},
   "outputs": [
    {
     "data": {
      "text/plain": [
       "[<matplotlib.lines.Line2D at 0x24372a2ba90>]"
      ]
     },
     "execution_count": 11,
     "metadata": {},
     "output_type": "execute_result"
    },
    {
     "data": {
      "image/png": "[encoded data removed]",
      "text/plain": [
       "<Figure size 720x576 with 1 Axes>"
      ]
     },
     "metadata": {
      "needs_background": "light"
     },
     "output_type": "display_data"
    }
   ],
   "source": [
    "fig=plt.figure(figsize=(10,8))\n",
    "ax=fig.add_axes([0,0,1,1])\n",
    "\n",
    "ax.scatter(X_testing,y_testing,color='grey')\n",
    "ax.plot(X_testing,y_pred_testing,color='steelblue')"
   ]
  }
 ],
 "metadata": {
  "kernelspec": {
   "display_name": "Python 3",
   "language": "python",
   "name": "python3"
  },
  "language_info": {
   "codemirror_mode": {
    "name": "ipython",
    "version": 3
   },
   "file_extension": ".py",
   "mimetype": "text/x-python",
   "name": "python",
   "nbconvert_exporter": "python",
   "pygments_lexer": "ipython3",
   "version": "3.9.5"
  }
 },
 "nbformat": 4,
 "nbformat_minor": 5
}
